{
 "cells": [
  {
   "cell_type": "code",
   "execution_count": null,
   "id": "e3fad890",
   "metadata": {},
   "outputs": [],
   "source": [
    "import pandas as pd"
   ]
  },
  {
   "cell_type": "code",
   "execution_count": null,
   "id": "4b7bff13",
   "metadata": {},
   "outputs": [],
   "source": [
    "df = pd.read_csv(\"CrimeData2020.csv\")"
   ]
  },
  {
   "cell_type": "code",
   "execution_count": null,
   "id": "ed57d18a",
   "metadata": {},
   "outputs": [],
   "source": [
    "df.head()"
   ]
  },
  {
   "cell_type": "code",
   "execution_count": null,
   "id": "e1d3bde4",
   "metadata": {},
   "outputs": [],
   "source": [
    "df.info()"
   ]
  },
  {
   "cell_type": "code",
   "execution_count": null,
   "id": "4f350fad",
   "metadata": {},
   "outputs": [],
   "source": [
    "# df['Date Rptd'] = pd.to_datetime(df['Date Rptd'], format='%m/%d/%Y %I:%M:%S %p')\n",
    "\n",
    "# # Extract date, month, year, and time into separate columns\n",
    "# df['Date'] = df['Date Rptd'].dt.strftime('%d')\n",
    "# df['Month'] = df['Date Rptd'].dt.strftime('%m')\n",
    "# df['Year'] = df['Date Rptd'].dt.strftime('%Y')\n",
    "# df['Time'] = df['Date Rptd'].dt.strftime('%I:%M:%S %p')\n",
    "\n",
    "# df.head()"
   ]
  },
  {
   "cell_type": "code",
   "execution_count": null,
   "id": "4583a30a",
   "metadata": {},
   "outputs": [],
   "source": []
  }
 ],
 "metadata": {
  "kernelspec": {
   "display_name": "Python 3 (ipykernel)",
   "language": "python",
   "name": "python3"
  },
  "language_info": {
   "codemirror_mode": {
    "name": "ipython",
    "version": 3
   },
   "file_extension": ".py",
   "mimetype": "text/x-python",
   "name": "python",
   "nbconvert_exporter": "python",
   "pygments_lexer": "ipython3",
   "version": "3.10.4"
  }
 },
 "nbformat": 4,
 "nbformat_minor": 5
}
